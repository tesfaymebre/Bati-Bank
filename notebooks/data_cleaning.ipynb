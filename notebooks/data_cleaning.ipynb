{
 "cells": [
  {
   "cell_type": "code",
   "execution_count": 1,
   "metadata": {},
   "outputs": [],
   "source": [
    "import sys\n",
    "import os\n",
    "sys.path.append(os.path.abspath('../'))"
   ]
  },
  {
   "cell_type": "code",
   "execution_count": 5,
   "metadata": {},
   "outputs": [
    {
     "name": "stdout",
     "output_type": "stream",
     "text": [
      "/Users/tesfamariamasfaw/Documents/10x/Bati-Bank\n",
      "Running stage 'data_cleaning':                                                  \n",
      "> python scripts/data_cleaning.py\n",
      "2025-01-29 10:40:52,716 - INFO - Loading data from data/raw/data.csv\n",
      "2025-01-29 10:40:52,875 - INFO - Converting data types...\n",
      "2025-01-29 10:40:52,921 - INFO - Converted TransactionStartTime to datetime.\n",
      "2025-01-29 10:40:52,921 - INFO - Dropping redundant columns...\n",
      "2025-01-29 10:40:52,928 - INFO - Dropped columns: ['CurrencyCode', 'CountryCode']\n",
      "2025-01-29 10:40:52,928 - INFO - Handling outliers...\n",
      "2025-01-29 10:40:52,929 - INFO - Capped outliers in Amount at 99th percentile.\n",
      "2025-01-29 10:40:52,930 - INFO - Capped outliers in Value at 99th percentile.\n",
      "2025-01-29 10:40:52,930 - INFO - Handling multicollinearity...\n",
      "2025-01-29 10:40:52,934 - INFO - Dropped column 'Value' due to high correlation with 'Amount'.\n",
      "2025-01-29 10:40:52,934 - INFO - Grouping underrepresented categories in ProductId...\n",
      "2025-01-29 10:40:52,996 - INFO - Grouped rare categories in ProductId into 'Other'.\n",
      "2025-01-29 10:40:52,996 - INFO - Grouping underrepresented categories in ProductCategory...\n",
      "2025-01-29 10:40:53,057 - INFO - Grouped rare categories in ProductCategory into 'Other'.\n",
      "2025-01-29 10:40:53,057 - INFO - Saving cleaned data to data/preprocessed/cleaned/final_cleaned_data.csv\n",
      "2025-01-29 10:40:53,482 - INFO - Data cleaning completed successfully!\n",
      "Generating lock file 'dvc.lock'                                                 \n",
      "Updating lock file 'dvc.lock'\n",
      "\n",
      "To track the changes with git, run:\n",
      "\n",
      "\tgit add dvc.lock\n",
      "\n",
      "To enable auto staging, run:\n",
      "\n",
      "\tdvc config core.autostage true\n",
      "Use `dvc push` to send your updates to remote storage.\n",
      "\u001b[0m"
     ]
    }
   ],
   "source": [
    "%cd /Users/tesfamariamasfaw/Documents/10x/Bati-Bank/\n",
    "!dvc repro"
   ]
  },
  {
   "cell_type": "code",
   "execution_count": null,
   "metadata": {},
   "outputs": [],
   "source": []
  }
 ],
 "metadata": {
  "kernelspec": {
   "display_name": ".venv",
   "language": "python",
   "name": "python3"
  },
  "language_info": {
   "codemirror_mode": {
    "name": "ipython",
    "version": 3
   },
   "file_extension": ".py",
   "mimetype": "text/x-python",
   "name": "python",
   "nbconvert_exporter": "python",
   "pygments_lexer": "ipython3",
   "version": "3.13.1"
  }
 },
 "nbformat": 4,
 "nbformat_minor": 2
}
